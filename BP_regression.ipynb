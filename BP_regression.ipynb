{
  "nbformat": 4,
  "nbformat_minor": 0,
  "metadata": {
    "colab": {
      "provenance": [],
      "authorship_tag": "ABX9TyMSpS9LzjfaWkbAqLoQYBEb",
      "include_colab_link": true
    },
    "kernelspec": {
      "name": "python3",
      "display_name": "Python 3"
    },
    "language_info": {
      "name": "python"
    }
  },
  "cells": [
    {
      "cell_type": "markdown",
      "metadata": {
        "id": "view-in-github",
        "colab_type": "text"
      },
      "source": [
        "<a href=\"https://colab.research.google.com/github/BigyanBhatta/Deep-Learning-Improvement/blob/main/BP_regression.ipynb\" target=\"_parent\"><img src=\"https://colab.research.google.com/assets/colab-badge.svg\" alt=\"Open In Colab\"/></a>"
      ]
    },
    {
      "cell_type": "code",
      "execution_count": null,
      "metadata": {
        "id": "ygUCUByiFf8D"
      },
      "outputs": [],
      "source": [
        "import pandas as pd\n",
        "import numpy as np\n",
        "\n",
        "import warnings\n",
        "warnings.filterwarnings('ignore')"
      ]
    },
    {
      "cell_type": "code",
      "source": [
        "df = pd.DataFrame([[8,8,4], [7,9,5], [6,10,6],[5,12,7]], columns = ['cgpa', 'profile_score', 'lpa'])\n"
      ],
      "metadata": {
        "id": "YClUFQ4S3h0V"
      },
      "execution_count": null,
      "outputs": []
    },
    {
      "cell_type": "code",
      "source": [
        "df[['cgpa', 'profile_score']].values[0]"
      ],
      "metadata": {
        "colab": {
          "base_uri": "https://localhost:8080/"
        },
        "id": "xE0m-p9tujhe",
        "outputId": "72693042-5239-4d18-ab87-bf153eeef44f"
      },
      "execution_count": null,
      "outputs": [
        {
          "output_type": "execute_result",
          "data": {
            "text/plain": [
              "array([8, 8])"
            ]
          },
          "metadata": {},
          "execution_count": 42
        }
      ]
    },
    {
      "cell_type": "code",
      "source": [
        "df.head()"
      ],
      "metadata": {
        "colab": {
          "base_uri": "https://localhost:8080/",
          "height": 175
        },
        "id": "fmO98Xfa34Ru",
        "outputId": "15e5b6d6-a460-4a6a-e4ff-437d4cee151e"
      },
      "execution_count": null,
      "outputs": [
        {
          "output_type": "execute_result",
          "data": {
            "text/plain": [
              "   cgpa  profile_score  lpa\n",
              "0     8              8    4\n",
              "1     7              9    5\n",
              "2     6             10    6\n",
              "3     5             12    7"
            ],
            "text/html": [
              "\n",
              "  <div id=\"df-eba99730-54fa-45a6-bad1-5c6d0b77414c\" class=\"colab-df-container\">\n",
              "    <div>\n",
              "<style scoped>\n",
              "    .dataframe tbody tr th:only-of-type {\n",
              "        vertical-align: middle;\n",
              "    }\n",
              "\n",
              "    .dataframe tbody tr th {\n",
              "        vertical-align: top;\n",
              "    }\n",
              "\n",
              "    .dataframe thead th {\n",
              "        text-align: right;\n",
              "    }\n",
              "</style>\n",
              "<table border=\"1\" class=\"dataframe\">\n",
              "  <thead>\n",
              "    <tr style=\"text-align: right;\">\n",
              "      <th></th>\n",
              "      <th>cgpa</th>\n",
              "      <th>profile_score</th>\n",
              "      <th>lpa</th>\n",
              "    </tr>\n",
              "  </thead>\n",
              "  <tbody>\n",
              "    <tr>\n",
              "      <th>0</th>\n",
              "      <td>8</td>\n",
              "      <td>8</td>\n",
              "      <td>4</td>\n",
              "    </tr>\n",
              "    <tr>\n",
              "      <th>1</th>\n",
              "      <td>7</td>\n",
              "      <td>9</td>\n",
              "      <td>5</td>\n",
              "    </tr>\n",
              "    <tr>\n",
              "      <th>2</th>\n",
              "      <td>6</td>\n",
              "      <td>10</td>\n",
              "      <td>6</td>\n",
              "    </tr>\n",
              "    <tr>\n",
              "      <th>3</th>\n",
              "      <td>5</td>\n",
              "      <td>12</td>\n",
              "      <td>7</td>\n",
              "    </tr>\n",
              "  </tbody>\n",
              "</table>\n",
              "</div>\n",
              "    <div class=\"colab-df-buttons\">\n",
              "\n",
              "  <div class=\"colab-df-container\">\n",
              "    <button class=\"colab-df-convert\" onclick=\"convertToInteractive('df-eba99730-54fa-45a6-bad1-5c6d0b77414c')\"\n",
              "            title=\"Convert this dataframe to an interactive table.\"\n",
              "            style=\"display:none;\">\n",
              "\n",
              "  <svg xmlns=\"http://www.w3.org/2000/svg\" height=\"24px\" viewBox=\"0 -960 960 960\">\n",
              "    <path d=\"M120-120v-720h720v720H120Zm60-500h600v-160H180v160Zm220 220h160v-160H400v160Zm0 220h160v-160H400v160ZM180-400h160v-160H180v160Zm440 0h160v-160H620v160ZM180-180h160v-160H180v160Zm440 0h160v-160H620v160Z\"/>\n",
              "  </svg>\n",
              "    </button>\n",
              "\n",
              "  <style>\n",
              "    .colab-df-container {\n",
              "      display:flex;\n",
              "      gap: 12px;\n",
              "    }\n",
              "\n",
              "    .colab-df-convert {\n",
              "      background-color: #E8F0FE;\n",
              "      border: none;\n",
              "      border-radius: 50%;\n",
              "      cursor: pointer;\n",
              "      display: none;\n",
              "      fill: #1967D2;\n",
              "      height: 32px;\n",
              "      padding: 0 0 0 0;\n",
              "      width: 32px;\n",
              "    }\n",
              "\n",
              "    .colab-df-convert:hover {\n",
              "      background-color: #E2EBFA;\n",
              "      box-shadow: 0px 1px 2px rgba(60, 64, 67, 0.3), 0px 1px 3px 1px rgba(60, 64, 67, 0.15);\n",
              "      fill: #174EA6;\n",
              "    }\n",
              "\n",
              "    .colab-df-buttons div {\n",
              "      margin-bottom: 4px;\n",
              "    }\n",
              "\n",
              "    [theme=dark] .colab-df-convert {\n",
              "      background-color: #3B4455;\n",
              "      fill: #D2E3FC;\n",
              "    }\n",
              "\n",
              "    [theme=dark] .colab-df-convert:hover {\n",
              "      background-color: #434B5C;\n",
              "      box-shadow: 0px 1px 3px 1px rgba(0, 0, 0, 0.15);\n",
              "      filter: drop-shadow(0px 1px 2px rgba(0, 0, 0, 0.3));\n",
              "      fill: #FFFFFF;\n",
              "    }\n",
              "  </style>\n",
              "\n",
              "    <script>\n",
              "      const buttonEl =\n",
              "        document.querySelector('#df-eba99730-54fa-45a6-bad1-5c6d0b77414c button.colab-df-convert');\n",
              "      buttonEl.style.display =\n",
              "        google.colab.kernel.accessAllowed ? 'block' : 'none';\n",
              "\n",
              "      async function convertToInteractive(key) {\n",
              "        const element = document.querySelector('#df-eba99730-54fa-45a6-bad1-5c6d0b77414c');\n",
              "        const dataTable =\n",
              "          await google.colab.kernel.invokeFunction('convertToInteractive',\n",
              "                                                    [key], {});\n",
              "        if (!dataTable) return;\n",
              "\n",
              "        const docLinkHtml = 'Like what you see? Visit the ' +\n",
              "          '<a target=\"_blank\" href=https://colab.research.google.com/notebooks/data_table.ipynb>data table notebook</a>'\n",
              "          + ' to learn more about interactive tables.';\n",
              "        element.innerHTML = '';\n",
              "        dataTable['output_type'] = 'display_data';\n",
              "        await google.colab.output.renderOutput(dataTable, element);\n",
              "        const docLink = document.createElement('div');\n",
              "        docLink.innerHTML = docLinkHtml;\n",
              "        element.appendChild(docLink);\n",
              "      }\n",
              "    </script>\n",
              "  </div>\n",
              "\n",
              "\n",
              "<div id=\"df-15fb138d-530b-42a1-b884-949fbebc52de\">\n",
              "  <button class=\"colab-df-quickchart\" onclick=\"quickchart('df-15fb138d-530b-42a1-b884-949fbebc52de')\"\n",
              "            title=\"Suggest charts\"\n",
              "            style=\"display:none;\">\n",
              "\n",
              "<svg xmlns=\"http://www.w3.org/2000/svg\" height=\"24px\"viewBox=\"0 0 24 24\"\n",
              "     width=\"24px\">\n",
              "    <g>\n",
              "        <path d=\"M19 3H5c-1.1 0-2 .9-2 2v14c0 1.1.9 2 2 2h14c1.1 0 2-.9 2-2V5c0-1.1-.9-2-2-2zM9 17H7v-7h2v7zm4 0h-2V7h2v10zm4 0h-2v-4h2v4z\"/>\n",
              "    </g>\n",
              "</svg>\n",
              "  </button>\n",
              "\n",
              "<style>\n",
              "  .colab-df-quickchart {\n",
              "      --bg-color: #E8F0FE;\n",
              "      --fill-color: #1967D2;\n",
              "      --hover-bg-color: #E2EBFA;\n",
              "      --hover-fill-color: #174EA6;\n",
              "      --disabled-fill-color: #AAA;\n",
              "      --disabled-bg-color: #DDD;\n",
              "  }\n",
              "\n",
              "  [theme=dark] .colab-df-quickchart {\n",
              "      --bg-color: #3B4455;\n",
              "      --fill-color: #D2E3FC;\n",
              "      --hover-bg-color: #434B5C;\n",
              "      --hover-fill-color: #FFFFFF;\n",
              "      --disabled-bg-color: #3B4455;\n",
              "      --disabled-fill-color: #666;\n",
              "  }\n",
              "\n",
              "  .colab-df-quickchart {\n",
              "    background-color: var(--bg-color);\n",
              "    border: none;\n",
              "    border-radius: 50%;\n",
              "    cursor: pointer;\n",
              "    display: none;\n",
              "    fill: var(--fill-color);\n",
              "    height: 32px;\n",
              "    padding: 0;\n",
              "    width: 32px;\n",
              "  }\n",
              "\n",
              "  .colab-df-quickchart:hover {\n",
              "    background-color: var(--hover-bg-color);\n",
              "    box-shadow: 0 1px 2px rgba(60, 64, 67, 0.3), 0 1px 3px 1px rgba(60, 64, 67, 0.15);\n",
              "    fill: var(--button-hover-fill-color);\n",
              "  }\n",
              "\n",
              "  .colab-df-quickchart-complete:disabled,\n",
              "  .colab-df-quickchart-complete:disabled:hover {\n",
              "    background-color: var(--disabled-bg-color);\n",
              "    fill: var(--disabled-fill-color);\n",
              "    box-shadow: none;\n",
              "  }\n",
              "\n",
              "  .colab-df-spinner {\n",
              "    border: 2px solid var(--fill-color);\n",
              "    border-color: transparent;\n",
              "    border-bottom-color: var(--fill-color);\n",
              "    animation:\n",
              "      spin 1s steps(1) infinite;\n",
              "  }\n",
              "\n",
              "  @keyframes spin {\n",
              "    0% {\n",
              "      border-color: transparent;\n",
              "      border-bottom-color: var(--fill-color);\n",
              "      border-left-color: var(--fill-color);\n",
              "    }\n",
              "    20% {\n",
              "      border-color: transparent;\n",
              "      border-left-color: var(--fill-color);\n",
              "      border-top-color: var(--fill-color);\n",
              "    }\n",
              "    30% {\n",
              "      border-color: transparent;\n",
              "      border-left-color: var(--fill-color);\n",
              "      border-top-color: var(--fill-color);\n",
              "      border-right-color: var(--fill-color);\n",
              "    }\n",
              "    40% {\n",
              "      border-color: transparent;\n",
              "      border-right-color: var(--fill-color);\n",
              "      border-top-color: var(--fill-color);\n",
              "    }\n",
              "    60% {\n",
              "      border-color: transparent;\n",
              "      border-right-color: var(--fill-color);\n",
              "    }\n",
              "    80% {\n",
              "      border-color: transparent;\n",
              "      border-right-color: var(--fill-color);\n",
              "      border-bottom-color: var(--fill-color);\n",
              "    }\n",
              "    90% {\n",
              "      border-color: transparent;\n",
              "      border-bottom-color: var(--fill-color);\n",
              "    }\n",
              "  }\n",
              "</style>\n",
              "\n",
              "  <script>\n",
              "    async function quickchart(key) {\n",
              "      const quickchartButtonEl =\n",
              "        document.querySelector('#' + key + ' button');\n",
              "      quickchartButtonEl.disabled = true;  // To prevent multiple clicks.\n",
              "      quickchartButtonEl.classList.add('colab-df-spinner');\n",
              "      try {\n",
              "        const charts = await google.colab.kernel.invokeFunction(\n",
              "            'suggestCharts', [key], {});\n",
              "      } catch (error) {\n",
              "        console.error('Error during call to suggestCharts:', error);\n",
              "      }\n",
              "      quickchartButtonEl.classList.remove('colab-df-spinner');\n",
              "      quickchartButtonEl.classList.add('colab-df-quickchart-complete');\n",
              "    }\n",
              "    (() => {\n",
              "      let quickchartButtonEl =\n",
              "        document.querySelector('#df-15fb138d-530b-42a1-b884-949fbebc52de button');\n",
              "      quickchartButtonEl.style.display =\n",
              "        google.colab.kernel.accessAllowed ? 'block' : 'none';\n",
              "    })();\n",
              "  </script>\n",
              "</div>\n",
              "\n",
              "    </div>\n",
              "  </div>\n"
            ],
            "application/vnd.google.colaboratory.intrinsic+json": {
              "type": "dataframe",
              "variable_name": "df",
              "summary": "{\n  \"name\": \"df\",\n  \"rows\": 4,\n  \"fields\": [\n    {\n      \"column\": \"cgpa\",\n      \"properties\": {\n        \"dtype\": \"number\",\n        \"std\": 1,\n        \"min\": 5,\n        \"max\": 8,\n        \"num_unique_values\": 4,\n        \"samples\": [\n          7,\n          5,\n          8\n        ],\n        \"semantic_type\": \"\",\n        \"description\": \"\"\n      }\n    },\n    {\n      \"column\": \"profile_score\",\n      \"properties\": {\n        \"dtype\": \"number\",\n        \"std\": 1,\n        \"min\": 8,\n        \"max\": 12,\n        \"num_unique_values\": 4,\n        \"samples\": [\n          9,\n          12,\n          8\n        ],\n        \"semantic_type\": \"\",\n        \"description\": \"\"\n      }\n    },\n    {\n      \"column\": \"lpa\",\n      \"properties\": {\n        \"dtype\": \"number\",\n        \"std\": 1,\n        \"min\": 4,\n        \"max\": 7,\n        \"num_unique_values\": 4,\n        \"samples\": [\n          5,\n          7,\n          4\n        ],\n        \"semantic_type\": \"\",\n        \"description\": \"\"\n      }\n    }\n  ]\n}"
            }
          },
          "metadata": {},
          "execution_count": 43
        }
      ]
    },
    {
      "cell_type": "code",
      "source": [
        "def param_initialize ( model_param):\n",
        "  np.random.seed(3)\n",
        "  result = {}\n",
        "  l = len(model_param)\n",
        "  for i in range(1,l):\n",
        "    result['w' + str(i)] = np.ones((model_param[i-1], model_param[i])) * 0.1\n",
        "    result['b' + str(i)] = np.zeros((model_param[i], 1))\n",
        "\n",
        "  return result\n"
      ],
      "metadata": {
        "id": "Jk03_XvYQMe_"
      },
      "execution_count": null,
      "outputs": []
    },
    {
      "cell_type": "code",
      "source": [
        "param_initialize([2,2,1])"
      ],
      "metadata": {
        "colab": {
          "base_uri": "https://localhost:8080/"
        },
        "id": "HsGZ6Igw35Sa",
        "outputId": "4112024b-d75f-4a7b-fbb8-0c6f140a875e"
      },
      "execution_count": null,
      "outputs": [
        {
          "output_type": "execute_result",
          "data": {
            "text/plain": [
              "{'w1': array([[0.1, 0.1],\n",
              "        [0.1, 0.1]]),\n",
              " 'b1': array([[0.],\n",
              "        [0.]]),\n",
              " 'w2': array([[0.1],\n",
              "        [0.1]]),\n",
              " 'b2': array([[0.]])}"
            ]
          },
          "metadata": {},
          "execution_count": 45
        }
      ]
    },
    {
      "cell_type": "code",
      "source": [
        "parameters = param_initialize([2,2,1])\n",
        "X = (df[['cgpa', 'profile_score']]).values[0].reshape(2,1)\n",
        "print(X)\n"
      ],
      "metadata": {
        "colab": {
          "base_uri": "https://localhost:8080/"
        },
        "id": "MPqMvzqVBTlt",
        "outputId": "7510fe0b-0154-4d2c-a76e-8044480db691"
      },
      "execution_count": null,
      "outputs": [
        {
          "output_type": "stream",
          "name": "stdout",
          "text": [
            "[[8]\n",
            " [8]]\n"
          ]
        }
      ]
    },
    {
      "cell_type": "code",
      "source": [
        "\n",
        "\n",
        "\n",
        "def forward_prop (X, parameters):\n",
        "\n",
        "  n_lay = len(parameters)//2\n",
        "  A = X\n",
        "  for i in range(1,n_lay+1):\n",
        "    A_prev = A\n",
        "\n",
        "    wl = parameters['w' + str(i )]\n",
        "    bl = parameters['b' + str(i)]\n",
        "    # print(A_prev)\n",
        "    # print(wl)\n",
        "    # print(bl)\n",
        "    # print('*'*20)\n",
        "    A = forward_prod(A_prev, wl, bl)\n",
        "\n",
        "  return A, A_prev"
      ],
      "metadata": {
        "id": "JsEa4dgLRt1W"
      },
      "execution_count": null,
      "outputs": []
    },
    {
      "cell_type": "code",
      "source": [
        "def forward_prod(A, wl, bl):\n",
        "  return (np.dot(wl.T, A) + bl)"
      ],
      "metadata": {
        "id": "W_uMDFnaBdZv"
      },
      "execution_count": null,
      "outputs": []
    },
    {
      "cell_type": "code",
      "source": [
        "y_hat, A1 = forward_prop(X, parameters)\n",
        "y = df[['lpa']].values[0][0]\n"
      ],
      "metadata": {
        "id": "DaetkazqfwBj"
      },
      "execution_count": null,
      "outputs": []
    },
    {
      "cell_type": "code",
      "source": [
        "def update_parameters(y, y_hat, A1, parameters, X):\n",
        "\n",
        "  parameters['w2'][0][0] = parameters['w2'][0][0] + (0.001 * 2 * (y - y_hat) * A1[0][0])\n",
        "  parameters['w2'][1][0] = parameters['w2'][1][0] + (0.001 * 2 * (y - y_hat) * A1[1][0])\n",
        "  parameters['b2'][0][0] = parameters['b2'][0][0] + (0.001 * 2 * (y - y_hat))\n",
        "\n",
        "\n",
        "  parameters['w1'][0][0] =  parameters['w1'][0][0] + (0.001 * 2 * (y -y_hat) * parameters['w2'][0][0] *X[0][0] )\n",
        "  parameters['w1'][0][1] =  parameters['w1'][0][1] + (0.001 * 2 * (y -y_hat) * parameters['w2'][1][0] *X[0][0] )\n",
        "  parameters['b1'][0][0] =  parameters['w1'][0][1] + (0.001 * 2 * (y -y_hat) * parameters['w2'][0][0] )\n",
        "\n",
        "\n",
        "  parameters['w1'][1][0] =  parameters['w1'][1][0] + (0.001 * 2 * (y -y_hat) * parameters['w2'][0][0] *X[1][0] )\n",
        "  parameters['w1'][1][1] =  parameters['w1'][1][1] + (0.001 * 2 * (y -y_hat) * parameters['w2'][1][0] *X[1][0] )\n",
        "  parameters['b1'][1][0] =  parameters['b1'][1][0] + (0.001 * 2 * (y -y_hat) * parameters['w2'][1][0] )\n"
      ],
      "metadata": {
        "id": "5dkLm4lMgJc-"
      },
      "execution_count": null,
      "outputs": []
    },
    {
      "cell_type": "code",
      "source": [
        "X = (df[['cgpa', 'profile_score']]).values[0].reshape(2,1)\n",
        "y = df[['lpa']].values[0][0]\n",
        "\n",
        "parameters = param_initialize([2,2,1])\n",
        "\n",
        "y_hat, A1 = forward_prop(X, parameters)\n",
        "\n",
        "\n",
        "\n",
        "update_parameters(y, y_hat, A1, parameters, X)\n",
        "\n",
        "parameters\n",
        "\n",
        "\n"
      ],
      "metadata": {
        "id": "gDyhDKs8gRr2",
        "colab": {
          "base_uri": "https://localhost:8080/"
        },
        "outputId": "4a57cbe9-6005-4f9e-d1f3-252d484455d2"
      },
      "execution_count": null,
      "outputs": [
        {
          "output_type": "execute_result",
          "data": {
            "text/plain": [
              "{'w1': array([[0.10658137, 0.10658137],\n",
              "        [0.10658137, 0.10658137]]),\n",
              " 'b1': array([[0.10740404],\n",
              "        [0.00082267]]),\n",
              " 'w2': array([[0.111776],\n",
              "        [0.111776]]),\n",
              " 'b2': array([[0.00736]])}"
            ]
          },
          "metadata": {},
          "execution_count": 55
        }
      ]
    },
    {
      "cell_type": "code",
      "source": [
        "X = (df[['cgpa', 'profile_score']]).values[1].reshape(2,1)\n",
        "y = df[['lpa']].values[1][0]\n",
        "\n",
        "parameters = param_initialize([2,2,1])\n",
        "\n",
        "y_hat, A1 = forward_prop(X, parameters)\n",
        "\n",
        "\n",
        "\n",
        "update_parameters(y, y_hat, A1, parameters, X)\n",
        "\n",
        "parameters\n",
        "\n"
      ],
      "metadata": {
        "colab": {
          "base_uri": "https://localhost:8080/"
        },
        "id": "FCz3vqW-CUVd",
        "outputId": "543498bf-546f-4300-ef08-e1952e72cf5e"
      },
      "execution_count": null,
      "outputs": [
        {
          "output_type": "execute_result",
          "data": {
            "text/plain": [
              "{'w1': array([[0.10753323, 0.10753323],\n",
              "        [0.10968558, 0.10968558]]),\n",
              " 'b1': array([[0.1086094 ],\n",
              "        [0.00107618]]),\n",
              " 'w2': array([[0.114976],\n",
              "        [0.114976]]),\n",
              " 'b2': array([[0.00936]])}"
            ]
          },
          "metadata": {},
          "execution_count": 56
        }
      ]
    },
    {
      "cell_type": "code",
      "source": [
        "X = (df[['cgpa', 'profile_score']]).values[2].reshape(2,1)\n",
        "y = df[['lpa']].values[2][0]\n",
        "\n",
        "parameters = param_initialize([2,2,1])\n",
        "\n",
        "y_hat, A1 = forward_prop(X, parameters)\n",
        "\n",
        "\n",
        "\n",
        "update_parameters(y, y_hat, A1, parameters, X)\n",
        "\n",
        "parameters\n",
        "\n"
      ],
      "metadata": {
        "colab": {
          "base_uri": "https://localhost:8080/"
        },
        "id": "9lkSKrSbEXpR",
        "outputId": "77bb8a87-be87-4191-c3c6-8c4223240558"
      },
      "execution_count": null,
      "outputs": [
        {
          "output_type": "execute_result",
          "data": {
            "text/plain": [
              "{'w1': array([[0.10805488, 0.10805488],\n",
              "        [0.11342479, 0.11342479]]),\n",
              " 'b1': array([[0.10939736],\n",
              "        [0.00134248]]),\n",
              " 'w2': array([[0.118176],\n",
              "        [0.118176]]),\n",
              " 'b2': array([[0.01136]])}"
            ]
          },
          "metadata": {},
          "execution_count": 57
        }
      ]
    },
    {
      "cell_type": "code",
      "source": [
        "X = (df[['cgpa', 'profile_score']]).values[3].reshape(2,1)\n",
        "y = df[['lpa']].values[3][0]\n",
        "\n",
        "parameters = param_initialize([2,2,1])\n",
        "\n",
        "y_hat, A1 = forward_prop(X, parameters)\n",
        "\n",
        "\n",
        "\n",
        "update_parameters(y, y_hat, A1, parameters, X)\n",
        "\n",
        "parameters\n",
        "\n"
      ],
      "metadata": {
        "colab": {
          "base_uri": "https://localhost:8080/"
        },
        "id": "0cdO7A-TIdYe",
        "outputId": "54663b1e-45a1-4e4b-d0a0-efa98e4e1026"
      },
      "execution_count": null,
      "outputs": [
        {
          "output_type": "execute_result",
          "data": {
            "text/plain": [
              "{'w1': array([[0.10816809, 0.10816809],\n",
              "        [0.11960342, 0.11960342]]),\n",
              " 'b1': array([[0.10980171],\n",
              "        [0.00163362]]),\n",
              " 'w2': array([[0.122644],\n",
              "        [0.122644]]),\n",
              " 'b2': array([[0.01332]])}"
            ]
          },
          "metadata": {},
          "execution_count": 58
        }
      ]
    },
    {
      "cell_type": "code",
      "source": [
        "epochs = 10\n",
        "parameters = param_initialize([2,2,1])\n",
        "\n",
        "\n",
        "for i in range(epochs):\n",
        "  loss = []\n",
        "  for j in range(df.shape[0]):\n",
        "    X = (df[['cgpa', 'profile_score']]).values[j].reshape(2,1)\n",
        "    y = df[['lpa']].values[j][0]\n",
        "\n",
        "\n",
        "    y_hat, A1 = forward_prop(X, parameters)\n",
        "\n",
        "\n",
        "\n",
        "    update_parameters(y, y_hat, A1, parameters, X)\n",
        "\n",
        "    loss.append((y-y_hat)**2)\n",
        "\n",
        "  print(f'The epoch is {i + 1} and loss is {np.array(loss).mean()}.')\n",
        "\n",
        "\n",
        "\n"
      ],
      "metadata": {
        "colab": {
          "base_uri": "https://localhost:8080/"
        },
        "id": "_NgM2DF5IhBU",
        "outputId": "c37a18e6-6f5d-4714-a719-e74cf1413266"
      },
      "execution_count": null,
      "outputs": [
        {
          "output_type": "stream",
          "name": "stdout",
          "text": [
            "The epoch is 1 and loss is 26.104229413932348.\n",
            "The epoch is 2 and loss is 18.799448928425377.\n",
            "The epoch is 3 and loss is 9.209103081839.\n",
            "The epoch is 4 and loss is 2.7843838152688516.\n",
            "The epoch is 5 and loss is 1.0284365542031741.\n",
            "The epoch is 6 and loss is 0.8924753654357382.\n",
            "The epoch is 7 and loss is 0.9210501158964397.\n",
            "The epoch is 8 and loss is 0.9243948607367197.\n",
            "The epoch is 9 and loss is 0.911688084101856.\n",
            "The epoch is 10 and loss is 0.8937628678376153.\n"
          ]
        }
      ]
    },
    {
      "cell_type": "code",
      "source": [
        "\n"
      ],
      "metadata": {
        "id": "nXydoxjoI8i2"
      },
      "execution_count": 3,
      "outputs": []
    },
    {
      "cell_type": "code",
      "source": [],
      "metadata": {
        "id": "il1S-dd5hrA-"
      },
      "execution_count": null,
      "outputs": []
    }
  ]
}